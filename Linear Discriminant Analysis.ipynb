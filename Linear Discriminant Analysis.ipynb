{
 "cells": [
  {
   "cell_type": "code",
   "execution_count": 2,
   "metadata": {},
   "outputs": [
    {
     "name": "stderr",
     "output_type": "stream",
     "text": [
      "C:\\Users\\Lenovo\\Anaconda3\\lib\\importlib\\_bootstrap.py:219: RuntimeWarning: numpy.ufunc size changed, may indicate binary incompatibility. Expected 192 from C header, got 216 from PyObject\n",
      "  return f(*args, **kwds)\n",
      "C:\\Users\\Lenovo\\Anaconda3\\lib\\importlib\\_bootstrap.py:219: RuntimeWarning: numpy.ufunc size changed, may indicate binary incompatibility. Expected 192 from C header, got 216 from PyObject\n",
      "  return f(*args, **kwds)\n"
     ]
    }
   ],
   "source": [
    "import pandas as pd\n",
    "import numpy as np"
   ]
  },
  {
   "cell_type": "code",
   "execution_count": 3,
   "metadata": {},
   "outputs": [
    {
     "data": {
      "text/html": [
       "<div>\n",
       "<style scoped>\n",
       "    .dataframe tbody tr th:only-of-type {\n",
       "        vertical-align: middle;\n",
       "    }\n",
       "\n",
       "    .dataframe tbody tr th {\n",
       "        vertical-align: top;\n",
       "    }\n",
       "\n",
       "    .dataframe thead th {\n",
       "        text-align: right;\n",
       "    }\n",
       "</style>\n",
       "<table border=\"1\" class=\"dataframe\">\n",
       "  <thead>\n",
       "    <tr style=\"text-align: right;\">\n",
       "      <th></th>\n",
       "      <th>Customer_Segment</th>\n",
       "      <th>A1</th>\n",
       "      <th>A2</th>\n",
       "      <th>A3</th>\n",
       "      <th>A4</th>\n",
       "      <th>A5</th>\n",
       "      <th>A6</th>\n",
       "      <th>A7</th>\n",
       "      <th>A8</th>\n",
       "      <th>A9</th>\n",
       "      <th>A10</th>\n",
       "      <th>A11</th>\n",
       "      <th>A12</th>\n",
       "      <th>A13</th>\n",
       "    </tr>\n",
       "  </thead>\n",
       "  <tbody>\n",
       "    <tr>\n",
       "      <td>0</td>\n",
       "      <td>1</td>\n",
       "      <td>14.23</td>\n",
       "      <td>1.71</td>\n",
       "      <td>2.43</td>\n",
       "      <td>15.6</td>\n",
       "      <td>127</td>\n",
       "      <td>2.80</td>\n",
       "      <td>3.06</td>\n",
       "      <td>0.28</td>\n",
       "      <td>2.29</td>\n",
       "      <td>5.64</td>\n",
       "      <td>1.04</td>\n",
       "      <td>3.92</td>\n",
       "      <td>1065</td>\n",
       "    </tr>\n",
       "    <tr>\n",
       "      <td>1</td>\n",
       "      <td>1</td>\n",
       "      <td>13.20</td>\n",
       "      <td>1.78</td>\n",
       "      <td>2.14</td>\n",
       "      <td>11.2</td>\n",
       "      <td>100</td>\n",
       "      <td>2.65</td>\n",
       "      <td>2.76</td>\n",
       "      <td>0.26</td>\n",
       "      <td>1.28</td>\n",
       "      <td>4.38</td>\n",
       "      <td>1.05</td>\n",
       "      <td>3.40</td>\n",
       "      <td>1050</td>\n",
       "    </tr>\n",
       "    <tr>\n",
       "      <td>2</td>\n",
       "      <td>1</td>\n",
       "      <td>13.16</td>\n",
       "      <td>2.36</td>\n",
       "      <td>2.67</td>\n",
       "      <td>18.6</td>\n",
       "      <td>101</td>\n",
       "      <td>2.80</td>\n",
       "      <td>3.24</td>\n",
       "      <td>0.30</td>\n",
       "      <td>2.81</td>\n",
       "      <td>5.68</td>\n",
       "      <td>1.03</td>\n",
       "      <td>3.17</td>\n",
       "      <td>1185</td>\n",
       "    </tr>\n",
       "    <tr>\n",
       "      <td>3</td>\n",
       "      <td>1</td>\n",
       "      <td>14.37</td>\n",
       "      <td>1.95</td>\n",
       "      <td>2.50</td>\n",
       "      <td>16.8</td>\n",
       "      <td>113</td>\n",
       "      <td>3.85</td>\n",
       "      <td>3.49</td>\n",
       "      <td>0.24</td>\n",
       "      <td>2.18</td>\n",
       "      <td>7.80</td>\n",
       "      <td>0.86</td>\n",
       "      <td>3.45</td>\n",
       "      <td>1480</td>\n",
       "    </tr>\n",
       "    <tr>\n",
       "      <td>4</td>\n",
       "      <td>1</td>\n",
       "      <td>13.24</td>\n",
       "      <td>2.59</td>\n",
       "      <td>2.87</td>\n",
       "      <td>21.0</td>\n",
       "      <td>118</td>\n",
       "      <td>2.80</td>\n",
       "      <td>2.69</td>\n",
       "      <td>0.39</td>\n",
       "      <td>1.82</td>\n",
       "      <td>4.32</td>\n",
       "      <td>1.04</td>\n",
       "      <td>2.93</td>\n",
       "      <td>735</td>\n",
       "    </tr>\n",
       "  </tbody>\n",
       "</table>\n",
       "</div>"
      ],
      "text/plain": [
       "   Customer_Segment     A1    A2    A3    A4   A5    A6    A7    A8    A9  \\\n",
       "0                 1  14.23  1.71  2.43  15.6  127  2.80  3.06  0.28  2.29   \n",
       "1                 1  13.20  1.78  2.14  11.2  100  2.65  2.76  0.26  1.28   \n",
       "2                 1  13.16  2.36  2.67  18.6  101  2.80  3.24  0.30  2.81   \n",
       "3                 1  14.37  1.95  2.50  16.8  113  3.85  3.49  0.24  2.18   \n",
       "4                 1  13.24  2.59  2.87  21.0  118  2.80  2.69  0.39  1.82   \n",
       "\n",
       "    A10   A11   A12   A13  \n",
       "0  5.64  1.04  3.92  1065  \n",
       "1  4.38  1.05  3.40  1050  \n",
       "2  5.68  1.03  3.17  1185  \n",
       "3  7.80  0.86  3.45  1480  \n",
       "4  4.32  1.04  2.93   735  "
      ]
     },
     "execution_count": 3,
     "metadata": {},
     "output_type": "execute_result"
    }
   ],
   "source": [
    "dataset=pd.read_csv('Wine.csv',names=['Customer_Segment', 'A1', 'A2', 'A3','A4', 'A5', 'A6','A7', 'A8', 'A9','A10', 'A11', 'A12','A13' ])\n",
    "dataset.head()"
   ]
  },
  {
   "cell_type": "code",
   "execution_count": 4,
   "metadata": {},
   "outputs": [],
   "source": [
    "X=dataset.iloc[:,1:14]\n",
    "y=dataset.iloc[:,0].values"
   ]
  },
  {
   "cell_type": "code",
   "execution_count": 5,
   "metadata": {},
   "outputs": [
    {
     "data": {
      "text/plain": [
       "(178, 13)"
      ]
     },
     "execution_count": 5,
     "metadata": {},
     "output_type": "execute_result"
    }
   ],
   "source": [
    "X.shape"
   ]
  },
  {
   "cell_type": "code",
   "execution_count": 6,
   "metadata": {},
   "outputs": [
    {
     "data": {
      "text/plain": [
       "(178,)"
      ]
     },
     "execution_count": 6,
     "metadata": {},
     "output_type": "execute_result"
    }
   ],
   "source": [
    "y.shape"
   ]
  },
  {
   "cell_type": "code",
   "execution_count": 7,
   "metadata": {},
   "outputs": [
    {
     "name": "stdout",
     "output_type": "stream",
     "text": [
      "(142, 13) (142,) (36, 13) (36,)\n"
     ]
    }
   ],
   "source": [
    "from sklearn.model_selection import train_test_split\n",
    "X_train, X_test, y_train, y_test=train_test_split(X,y, test_size=0.2, stratify=y)\n",
    "print(X_train.shape, y_train.shape, X_test.shape, y_test.shape)"
   ]
  },
  {
   "cell_type": "code",
   "execution_count": 8,
   "metadata": {},
   "outputs": [],
   "source": [
    "#feature scaling\n",
    "from sklearn.preprocessing import StandardScaler\n",
    "scaler=StandardScaler()\n",
    "X_train= scaler.fit_transform(X_train)\n",
    "X_test=scaler.transform(X_test)"
   ]
  },
  {
   "cell_type": "code",
   "execution_count": 10,
   "metadata": {},
   "outputs": [],
   "source": [
    "#Apply PCA\n",
    "from sklearn.discriminant_analysis import LinearDiscriminantAnalysis\n",
    "lda=LinearDiscriminantAnalysis(n_components=2)\n",
    "X_train=lda.fit_transform(X_train,y_train)\n",
    "X_test=lda.transform(X_test)\n"
   ]
  },
  {
   "cell_type": "code",
   "execution_count": 11,
   "metadata": {},
   "outputs": [
    {
     "data": {
      "text/plain": [
       "LogisticRegression(C=1.0, class_weight=None, dual=False, fit_intercept=True,\n",
       "                   intercept_scaling=1, l1_ratio=None, max_iter=100,\n",
       "                   multi_class='auto', n_jobs=None, penalty='l2',\n",
       "                   random_state=None, solver='lbfgs', tol=0.0001, verbose=0,\n",
       "                   warm_start=False)"
      ]
     },
     "execution_count": 11,
     "metadata": {},
     "output_type": "execute_result"
    }
   ],
   "source": [
    "#Logistic Regression\n",
    "from sklearn.linear_model import LogisticRegression\n",
    "classifier=LogisticRegression()\n",
    "classifier.fit(X_train, y_train)"
   ]
  },
  {
   "cell_type": "code",
   "execution_count": 12,
   "metadata": {},
   "outputs": [],
   "source": [
    "test_preds=classifier.predict(X_test)"
   ]
  },
  {
   "cell_type": "code",
   "execution_count": 13,
   "metadata": {},
   "outputs": [
    {
     "data": {
      "text/plain": [
       "array([[12,  0,  0],\n",
       "       [ 0, 14,  0],\n",
       "       [ 0,  0, 10]], dtype=int64)"
      ]
     },
     "execution_count": 13,
     "metadata": {},
     "output_type": "execute_result"
    }
   ],
   "source": [
    "from sklearn.metrics import confusion_matrix\n",
    "confusion_matrix(y_test, test_preds)"
   ]
  },
  {
   "cell_type": "code",
   "execution_count": 14,
   "metadata": {},
   "outputs": [
    {
     "data": {
      "text/plain": [
       "array([[ 5.03272545,  1.70568961],\n",
       "       [ 5.09207161,  3.10806758],\n",
       "       [ 5.18053981,  1.90403013],\n",
       "       [-0.0708618 , -3.31770114],\n",
       "       [-0.37532484, -2.49154678],\n",
       "       [-2.83601264, -0.10756847],\n",
       "       [-2.85599415,  2.94972134],\n",
       "       [-1.57906627,  1.12923836],\n",
       "       [ 0.55740784, -1.97595312],\n",
       "       [ 3.04498079,  1.68125136],\n",
       "       [-0.55764017, -1.07838495],\n",
       "       [-2.73150672,  1.56886535],\n",
       "       [-4.52071196,  3.88656862],\n",
       "       [-3.22876074, -2.92289833],\n",
       "       [-0.99961543, -1.40575736],\n",
       "       [ 4.09376792,  0.39486254],\n",
       "       [-3.02379592,  2.02671383],\n",
       "       [-1.8460553 , -2.39861726],\n",
       "       [ 0.08770418, -0.26707031],\n",
       "       [ 1.76031012, -0.46088163],\n",
       "       [-2.62609131,  0.36208972],\n",
       "       [-1.52076386,  0.40870866],\n",
       "       [-1.81321384, -1.38565068],\n",
       "       [ 0.58679234, -3.56387229],\n",
       "       [ 5.07612977,  2.0646571 ],\n",
       "       [-3.29453218,  1.50185897],\n",
       "       [-0.12431447, -3.9841462 ],\n",
       "       [ 4.01213322,  2.10971196],\n",
       "       [ 0.71151021, -1.93703989],\n",
       "       [ 3.33199879,  0.87328496],\n",
       "       [-3.68009375,  3.35155415],\n",
       "       [-0.95409132, -3.26736846],\n",
       "       [-4.83610308,  3.87846852],\n",
       "       [-3.04674181,  1.85423258],\n",
       "       [ 0.31453625, -1.98209738],\n",
       "       [ 0.29523491, -2.44507657],\n",
       "       [-2.13020134, -1.79401246],\n",
       "       [-3.04780662,  2.66495063],\n",
       "       [-0.83058757, -2.30200014],\n",
       "       [-0.21426745, -3.77198034],\n",
       "       [ 2.51120781,  2.24442615],\n",
       "       [-0.43816004, -2.82601652],\n",
       "       [-2.22001828, -2.86418927],\n",
       "       [-3.48747863,  2.04233463],\n",
       "       [-2.09812356, -3.03856793],\n",
       "       [ 5.26380342,  0.60317416],\n",
       "       [ 0.84027123, -3.28974806],\n",
       "       [ 0.81654147, -2.13536137],\n",
       "       [-3.63694756,  4.20995431],\n",
       "       [-2.21487325,  3.02533672],\n",
       "       [-0.97412639, -3.09116855],\n",
       "       [ 3.23810735,  0.33227208],\n",
       "       [-2.1092143 , -2.20999794],\n",
       "       [-0.89811318, -2.16105887],\n",
       "       [-3.94610725,  3.40298755],\n",
       "       [-5.11320022,  2.1987078 ],\n",
       "       [ 1.26748454, -2.76221617],\n",
       "       [ 2.66456031,  1.28974704],\n",
       "       [-2.88718222,  0.97097003],\n",
       "       [ 4.61755048,  0.13282161],\n",
       "       [-0.10924393, -2.27627247],\n",
       "       [ 3.46133752, -0.07607995],\n",
       "       [-0.00752887, -3.29805285],\n",
       "       [ 2.75690492,  0.96869234],\n",
       "       [-0.46935873, -3.85410937],\n",
       "       [ 4.52932972, -0.13289351],\n",
       "       [ 0.9152716 , -4.04154457],\n",
       "       [ 4.51711461,  1.0689456 ],\n",
       "       [ 5.61357958,  2.51146755],\n",
       "       [ 4.854943  ,  1.07969597],\n",
       "       [-2.63382983,  1.59765703],\n",
       "       [-3.49932848,  2.7072396 ],\n",
       "       [-3.95086773,  3.75405292],\n",
       "       [ 1.99349283, -0.81814269],\n",
       "       [-4.21103804,  3.00690256],\n",
       "       [-0.62237255, -1.47765258],\n",
       "       [ 5.32576635,  2.3482163 ],\n",
       "       [ 4.78649624,  2.04299276],\n",
       "       [-2.97612905,  2.54446958],\n",
       "       [ 3.35357712, -0.27800231],\n",
       "       [ 0.39425548, -3.82177471],\n",
       "       [-0.62457949, -3.31379127],\n",
       "       [-0.02666805, -3.22476339],\n",
       "       [ 2.18797308, -1.96415226],\n",
       "       [-3.58960962,  2.11164716],\n",
       "       [-1.11814438,  0.47924641],\n",
       "       [-0.38095424, -3.06821422],\n",
       "       [-0.03518466, -2.85696871],\n",
       "       [-3.08196651,  3.14974503],\n",
       "       [ 3.15244501,  1.6052737 ],\n",
       "       [ 5.54894327,  2.81028105],\n",
       "       [-2.52163532,  1.76796662],\n",
       "       [ 3.77090503,  0.42042613],\n",
       "       [-3.98054203,  2.20059941],\n",
       "       [-2.07786434,  1.48749626],\n",
       "       [ 3.9364887 ,  1.19413793],\n",
       "       [-0.81958775, -2.36044243],\n",
       "       [-2.99652838,  2.58730175],\n",
       "       [-1.27022436, -3.29863431],\n",
       "       [-3.24923022,  2.78719903],\n",
       "       [-4.32713192,  2.49047126],\n",
       "       [-3.92037847,  2.61995319],\n",
       "       [-0.53327182, -2.76509756],\n",
       "       [-0.49919983, -2.80739906],\n",
       "       [-1.61370453,  1.41076464],\n",
       "       [-1.09728937, -5.13401216],\n",
       "       [ 5.65603389,  1.97172606],\n",
       "       [-4.52359978,  1.17510395],\n",
       "       [ 0.85576337, -3.41247178],\n",
       "       [-2.17027866,  0.23781979],\n",
       "       [ 5.82448852,  1.32703421],\n",
       "       [ 4.96110524,  2.32886239],\n",
       "       [-3.19205968,  2.6645658 ],\n",
       "       [-0.41688841, -1.58858887],\n",
       "       [-0.11304721, -1.32435744],\n",
       "       [-0.11760445, -2.80543492],\n",
       "       [ 0.58500147, -1.77892887],\n",
       "       [ 5.04717787,  1.98794317],\n",
       "       [-2.0756833 , -4.30242571],\n",
       "       [-0.98841607, -2.86819789],\n",
       "       [-1.32117863, -3.58795802],\n",
       "       [ 4.53726542,  2.04531381],\n",
       "       [-3.44750433,  1.02105873],\n",
       "       [-2.69149624,  1.38032935],\n",
       "       [-0.60030904, -1.53467462],\n",
       "       [ 5.12775273,  2.36622567],\n",
       "       [-2.91840396,  1.54589272],\n",
       "       [ 5.81102871,  1.77176198],\n",
       "       [-2.82287821,  1.09067067],\n",
       "       [ 0.3644593 , -3.65844948],\n",
       "       [ 4.46828913,  2.25429882],\n",
       "       [-2.83289001,  2.15886682],\n",
       "       [ 4.68693656,  3.26270063],\n",
       "       [ 4.05571334,  0.4488402 ],\n",
       "       [-3.20713615,  0.53204737],\n",
       "       [-1.92614007,  1.24230482],\n",
       "       [ 5.09050446,  0.43906216],\n",
       "       [-1.48737239, -2.10064043],\n",
       "       [-2.78093174,  2.94230021],\n",
       "       [ 2.25487721,  0.31700341],\n",
       "       [-1.94199559,  1.33653457],\n",
       "       [-0.23568528, -3.41029027]])"
      ]
     },
     "execution_count": 14,
     "metadata": {},
     "output_type": "execute_result"
    }
   ],
   "source": [
    " X_train"
   ]
  }
 ],
 "metadata": {
  "kernelspec": {
   "display_name": "Python 3",
   "language": "python",
   "name": "python3"
  },
  "language_info": {
   "codemirror_mode": {
    "name": "ipython",
    "version": 3
   },
   "file_extension": ".py",
   "mimetype": "text/x-python",
   "name": "python",
   "nbconvert_exporter": "python",
   "pygments_lexer": "ipython3",
   "version": "3.7.4"
  }
 },
 "nbformat": 4,
 "nbformat_minor": 2
}
